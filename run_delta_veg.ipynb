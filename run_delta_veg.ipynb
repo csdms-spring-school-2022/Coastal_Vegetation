{
 "cells": [
  {
   "cell_type": "code",
   "execution_count": null,
   "id": "105752b9-bab7-4c22-81bd-fe4c6353e033",
   "metadata": {},
   "outputs": [],
   "source": [
    "# install pyyaml if not already on computer\n",
    "!pip install pyyaml"
   ]
  },
  {
   "cell_type": "code",
   "execution_count": 1,
   "id": "9bb4ad2b-3dcc-4e80-83e0-0ac1866c92de",
   "metadata": {},
   "outputs": [],
   "source": [
    "import yaml, imageio\n",
    "from DeltaRCM_veg_2_Edits import DeltaRCM"
   ]
  },
  {
   "cell_type": "code",
   "execution_count": 2,
   "id": "35cedf21-88e0-4314-87c0-7e97ba33b87a",
   "metadata": {},
   "outputs": [],
   "source": [
    "# import the parameters from the yaml file\n",
    "with open('delta_veg_params.yml', 'r') as file:\n",
    "    params = yaml.safe_load(file)"
   ]
  },
  {
   "cell_type": "code",
   "execution_count": null,
   "id": "b3532606-1073-40b2-b02b-b95612e249a9",
   "metadata": {},
   "outputs": [
    {
     "name": "stdout",
     "output_type": "stream",
     "text": [
      "t = 1\n",
      "t = 2\n",
      "t = 3\n",
      "t = 4\n",
      "t = 5\n",
      "t = 6\n",
      "t = 7\n",
      "t = 8\n",
      "t = 9\n"
     ]
    }
   ],
   "source": [
    "# setting up the model parameters\n",
    "delta = DeltaRCM(params)\n",
    "# changing class parameters for mangrove vs salt marsh\n",
    "delta.d_stem = 0.006 # stem diameter\n",
    "delta.K = 800 # number of stems per cell\n",
    "delta.d_root = 0.2 # root depth\n",
    "\n",
    "# running the model\n",
    "delta.run()"
   ]
  },
  {
   "cell_type": "code",
   "execution_count": null,
   "id": "fcc446f6-1f60-49f9-ba66-08cf03432613",
   "metadata": {},
   "outputs": [],
   "source": [
    "# creating the gif\n",
    "frames = []\n",
    "for i in range(833,5000,833):\n",
    "    filename = \"1delta\" + str(i) + \".png\"\n",
    "    frames.append(imageio.imread(filename))\n",
    "imageio.mimwrite(\"mangrove_hflood_cbed.gif\", frames, format= '.gif', fps = 1)"
   ]
  }
 ],
 "metadata": {
  "kernelspec": {
   "display_name": "Ivy",
   "language": "python",
   "name": "ivy"
  },
  "language_info": {
   "codemirror_mode": {
    "name": "ipython",
    "version": 3
   },
   "file_extension": ".py",
   "mimetype": "text/x-python",
   "name": "python",
   "nbconvert_exporter": "python",
   "pygments_lexer": "ipython3",
   "version": "3.9.12"
  }
 },
 "nbformat": 4,
 "nbformat_minor": 5
}
